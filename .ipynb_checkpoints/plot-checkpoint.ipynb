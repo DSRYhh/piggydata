{
 "cells": [
  {
   "cell_type": "markdown",
   "metadata": {},
   "source": [
    "# Homework 2-1 Learn to code in Jupyter Notebook\n",
    "## What's Jupyter?\n",
    "Jupyter Notebook offer an **interactive** coding enviroment for Python which contain both computer code (e.g. python) and rich text elements (paragraph, equations, figures, links, etc...). Jupyter allows users to run Python code instantly by just press *Shift + Enter*. What's more exciting is that **plotting** is available in a Jupyter Notebook, which is very convenient for data analysis.\n",
    "\n",
    "## Some useful shortcuts in Jupyter Notebook\n",
    "- Run the code cell: Shift + Enter\n",
    "- Comment current line: Ctrl + /\n",
    "- Delete current line: Shift + Delete\n",
    "- Code completion: Tab"
   ]
  },
  {
   "cell_type": "code",
   "execution_count": null,
   "metadata": {
    "collapsed": true
   },
   "outputs": [],
   "source": [
    "# do some setup\n",
    "import matplotlib.pyplot as plt\n",
    "\n",
    "# to display Chinese in plot\n",
    "# reference: https://segmentfault.com/a/1190000005144275\n",
    "plt.rcParams['font.sans-serif']=['SimHei'] #用来正常显示中文标签\n",
    "plt.rcParams['axes.unicode_minus']=False #用来正常显示负号\n",
    "\n",
    "# let figures display in notebook\n",
    "# reference: https://stackoverflow.com/questions/31609600/jupyter-ipython-notebook-not-plotting\n",
    "%matplotlib inline\n"
   ]
  },
  {
   "cell_type": "code",
   "execution_count": null,
   "metadata": {
    "collapsed": true
   },
   "outputs": [],
   "source": [
    "from dataReader import read_in_data\n",
    "\n",
    "# Load data from file\n",
    "# TODO fill your own data path here\n",
    "\n",
    "data_path = \"D:\\\\Users Documents\\\\Desktop\\\\shpig\\\\data\"\n",
    "data = read_in_data(data_path)\n",
    "\n",
    "# TODO: drop the column \"序号\" which is redundant\n",
    "# YOUR CODE HERE"
   ]
  },
  {
   "cell_type": "code",
   "execution_count": null,
   "metadata": {
    "collapsed": true
   },
   "outputs": [],
   "source": [
    "# Plot the data to have an intuition\n",
    "# You should try to understand each method and its parameters here\n",
    "# Offical documentation and StackOverflow are your friends\n",
    "\n",
    "# TODO: Try to modify some parameters to see what happen,\n",
    "# or you can also add some other parameters to make figures more beautiful\n",
    "data.plot(x=\"日期\", subplots=True, figsize=(15,20))\n",
    "plt.show()"
   ]
  },
  {
   "cell_type": "markdown",
   "metadata": {
    "collapsed": true
   },
   "source": [
    "# Homework 2-2 Data preparation\n",
    "\n",
    "In this part, you will split your data into three parts:\n",
    "\n",
    "|    Part Name   |       Description       | Percent |\n",
    "|:--------------:|:-----------------------:|:-------:|\n",
    "|  Training set  |     train your model    |   60%   |\n",
    "| Validation set | compare different model |   20%   |\n",
    "|    Test set    |   test final accuracy   |   20%   |\n",
    "\n",
    "Finish `split_data` in prediction.py. You can finish it in PyCharm."
   ]
  },
  {
   "cell_type": "code",
   "execution_count": null,
   "metadata": {
    "collapsed": true
   },
   "outputs": [],
   "source": [
    "from prediction import split_data\n",
    "train_set, val_set, test_set = split_data(data)\n",
    "print(train_set)\n",
    "print(val_set)\n",
    "print(test_set)"
   ]
  },
  {
   "cell_type": "code",
   "execution_count": null,
   "metadata": {
    "collapsed": true
   },
   "outputs": [],
   "source": []
  }
 ],
 "metadata": {
  "kernelspec": {
   "display_name": "Python 3",
   "language": "python",
   "name": "python3"
  },
  "language_info": {
   "codemirror_mode": {
    "name": "ipython",
    "version": 3
   },
   "file_extension": ".py",
   "mimetype": "text/x-python",
   "name": "python",
   "nbconvert_exporter": "python",
   "pygments_lexer": "ipython3",
   "version": "3.6.3"
  }
 },
 "nbformat": 4,
 "nbformat_minor": 1
}
